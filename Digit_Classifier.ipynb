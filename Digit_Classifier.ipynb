{
 "cells": [
  {
   "cell_type": "code",
   "execution_count": 1,
   "metadata": {
    "id": "N0CIuCQYXPZR"
   },
   "outputs": [],
   "source": [
    "from keras.datasets import mnist\n",
    "from keras.models import Sequential\n",
    "import keras.layers as layers\n",
    "from keras.preprocessing.image import ImageDataGenerator\n",
    "import numpy as np\n",
    "import pandas as pd\n",
    "from keras.utils import to_categorical\n",
    "import keras"
   ]
  },
  {
   "cell_type": "code",
   "execution_count": 2,
   "metadata": {
    "id": "9R6dIktpXQfJ"
   },
   "outputs": [],
   "source": [
    "(trainX,trainY),(testX,testY) = mnist.load_data()"
   ]
  },
  {
   "cell_type": "code",
   "execution_count": 3,
   "metadata": {
    "id": "POmaPEZpXV-I"
   },
   "outputs": [],
   "source": [
    "trainX = trainX.reshape(trainX.shape[0],28,28,1)\n",
    "testX = testX.reshape(testX.shape[0],28,28,1)\n",
    "trainY = to_categorical(trainY)\n",
    "testY = to_categorical(testY)"
   ]
  },
  {
   "cell_type": "code",
   "execution_count": 4,
   "metadata": {
    "id": "O6vIt1OgNvJ5"
   },
   "outputs": [],
   "source": [
    "train_norm = trainX.astype('float32')/255.0\n",
    "test_norm = testX.astype('float32')/255.0"
   ]
  },
  {
   "cell_type": "code",
   "execution_count": 5,
   "metadata": {
    "id": "psz6Co8lCfB6"
   },
   "outputs": [],
   "source": [
    "model = Sequential()\n",
    "model.add(layers.Conv2D(16, (3, 3), activation='relu', input_shape=(28,28,1)))\n",
    "model.add(layers.Conv2D(32,(3,3),activation='relu'))\n",
    "model.add(layers.MaxPooling2D((2, 2)))\n",
    "model.add(layers.BatchNormalization())\n",
    "model.add(layers.Conv2D(32, (3, 3), activation='relu'))\n",
    "model.add(layers.MaxPooling2D((2, 2)))\n",
    "model.add(layers.BatchNormalization())\n",
    "model.add(layers.Conv2D(64, (3, 3), activation='relu'))\n",
    "model.add(layers.MaxPooling2D((2, 2)))\n",
    "model.add(layers.Flatten())\n",
    "model.add(layers.Dense(512, activation='relu'))\n",
    "model.add(layers.Dense(128, activation='relu'))\n",
    "model.add(layers.Dense(64, activation='relu'))\n",
    "model.add(layers.Dense(10))\n",
    "model.add(layers.Activation('softmax'))\n",
    "model.compile(loss='categorical_crossentropy',\n",
    "              optimizer='adam',\n",
    "              metrics=['accuracy'])"
   ]
  },
  {
   "cell_type": "code",
   "execution_count": 7,
   "metadata": {},
   "outputs": [
    {
     "name": "stdout",
     "output_type": "stream",
     "text": [
      "Model: \"sequential\"\n",
      "_________________________________________________________________\n",
      "Layer (type)                 Output Shape              Param #   \n",
      "=================================================================\n",
      "conv2d (Conv2D)              (None, 26, 26, 16)        160       \n",
      "_________________________________________________________________\n",
      "conv2d_1 (Conv2D)            (None, 24, 24, 32)        4640      \n",
      "_________________________________________________________________\n",
      "max_pooling2d (MaxPooling2D) (None, 12, 12, 32)        0         \n",
      "_________________________________________________________________\n",
      "batch_normalization (BatchNo (None, 12, 12, 32)        128       \n",
      "_________________________________________________________________\n",
      "conv2d_2 (Conv2D)            (None, 10, 10, 32)        9248      \n",
      "_________________________________________________________________\n",
      "max_pooling2d_1 (MaxPooling2 (None, 5, 5, 32)          0         \n",
      "_________________________________________________________________\n",
      "batch_normalization_1 (Batch (None, 5, 5, 32)          128       \n",
      "_________________________________________________________________\n",
      "conv2d_3 (Conv2D)            (None, 3, 3, 64)          18496     \n",
      "_________________________________________________________________\n",
      "max_pooling2d_2 (MaxPooling2 (None, 1, 1, 64)          0         \n",
      "_________________________________________________________________\n",
      "flatten (Flatten)            (None, 64)                0         \n",
      "_________________________________________________________________\n",
      "dense (Dense)                (None, 512)               33280     \n",
      "_________________________________________________________________\n",
      "dense_1 (Dense)              (None, 128)               65664     \n",
      "_________________________________________________________________\n",
      "dense_2 (Dense)              (None, 64)                8256      \n",
      "_________________________________________________________________\n",
      "dense_3 (Dense)              (None, 10)                650       \n",
      "_________________________________________________________________\n",
      "activation (Activation)      (None, 10)                0         \n",
      "=================================================================\n",
      "Total params: 140,650\n",
      "Trainable params: 140,522\n",
      "Non-trainable params: 128\n",
      "_________________________________________________________________\n"
     ]
    }
   ],
   "source": [
    "model.summary()"
   ]
  },
  {
   "cell_type": "code",
   "execution_count": 7,
   "metadata": {
    "colab": {
     "base_uri": "https://localhost:8080/"
    },
    "id": "SvRSIgpaDerG",
    "outputId": "7c07a897-95a6-48a1-ac2e-9390c01846c9"
   },
   "outputs": [
    {
     "name": "stdout",
     "output_type": "stream",
     "text": [
      "Epoch 1/50\n",
      "469/469 [==============================] - 49s 103ms/step - loss: 0.1645 - accuracy: 0.9495 - val_loss: 0.0706 - val_accuracy: 0.9778\n",
      "Epoch 2/50\n",
      "469/469 [==============================] - 47s 101ms/step - loss: 0.0477 - accuracy: 0.9858 - val_loss: 0.0415 - val_accuracy: 0.9867\n",
      "Epoch 3/50\n",
      "469/469 [==============================] - 47s 101ms/step - loss: 0.0366 - accuracy: 0.9885 - val_loss: 0.0389 - val_accuracy: 0.9874\n",
      "Epoch 4/50\n",
      "469/469 [==============================] - 47s 101ms/step - loss: 0.0307 - accuracy: 0.9905 - val_loss: 0.0375 - val_accuracy: 0.9900\n",
      "Epoch 5/50\n",
      "469/469 [==============================] - 49s 104ms/step - loss: 0.0231 - accuracy: 0.9929 - val_loss: 0.0453 - val_accuracy: 0.9867\n",
      "Epoch 6/50\n",
      "469/469 [==============================] - 49s 103ms/step - loss: 0.0204 - accuracy: 0.9939 - val_loss: 0.0336 - val_accuracy: 0.9909\n",
      "Epoch 7/50\n",
      "469/469 [==============================] - 48s 103ms/step - loss: 0.0180 - accuracy: 0.9944 - val_loss: 0.0553 - val_accuracy: 0.9866\n",
      "Epoch 8/50\n",
      "469/469 [==============================] - 48s 103ms/step - loss: 0.0178 - accuracy: 0.9945 - val_loss: 0.0486 - val_accuracy: 0.9871\n",
      "Epoch 9/50\n",
      "469/469 [==============================] - 48s 103ms/step - loss: 0.0152 - accuracy: 0.9952 - val_loss: 0.0426 - val_accuracy: 0.9896\n",
      "Epoch 10/50\n",
      "469/469 [==============================] - 49s 105ms/step - loss: 0.0137 - accuracy: 0.9956 - val_loss: 0.0326 - val_accuracy: 0.9914\n",
      "Epoch 11/50\n",
      "469/469 [==============================] - 48s 103ms/step - loss: 0.0130 - accuracy: 0.9958 - val_loss: 0.0551 - val_accuracy: 0.9874\n",
      "Epoch 12/50\n",
      "469/469 [==============================] - 49s 104ms/step - loss: 0.0126 - accuracy: 0.9963 - val_loss: 0.0478 - val_accuracy: 0.9891\n",
      "Epoch 13/50\n",
      "469/469 [==============================] - 50s 106ms/step - loss: 0.0117 - accuracy: 0.9962 - val_loss: 0.0442 - val_accuracy: 0.9888\n",
      "Epoch 14/50\n",
      "469/469 [==============================] - 48s 102ms/step - loss: 0.0102 - accuracy: 0.9969 - val_loss: 0.0609 - val_accuracy: 0.9866\n",
      "Epoch 15/50\n",
      "469/469 [==============================] - 53s 114ms/step - loss: 0.0102 - accuracy: 0.9967 - val_loss: 0.0475 - val_accuracy: 0.9895\n",
      "Epoch 16/50\n",
      "469/469 [==============================] - 56s 119ms/step - loss: 0.0097 - accuracy: 0.9970 - val_loss: 0.0420 - val_accuracy: 0.9897\n",
      "Epoch 17/50\n",
      "469/469 [==============================] - 52s 111ms/step - loss: 0.0070 - accuracy: 0.9978 - val_loss: 0.0634 - val_accuracy: 0.9867\n",
      "Epoch 18/50\n",
      "469/469 [==============================] - 51s 109ms/step - loss: 0.0089 - accuracy: 0.9973 - val_loss: 0.0540 - val_accuracy: 0.9900\n",
      "Epoch 19/50\n",
      "469/469 [==============================] - 50s 106ms/step - loss: 0.0080 - accuracy: 0.9976 - val_loss: 0.0481 - val_accuracy: 0.9891\n",
      "Epoch 20/50\n",
      "469/469 [==============================] - 50s 106ms/step - loss: 0.0095 - accuracy: 0.9974 - val_loss: 0.0438 - val_accuracy: 0.9897\n",
      "Epoch 21/50\n",
      "469/469 [==============================] - 52s 111ms/step - loss: 0.0039 - accuracy: 0.9990 - val_loss: 0.0466 - val_accuracy: 0.9918\n",
      "Epoch 22/50\n",
      "469/469 [==============================] - 52s 111ms/step - loss: 0.0090 - accuracy: 0.9973 - val_loss: 0.0421 - val_accuracy: 0.9920\n",
      "Epoch 23/50\n",
      "469/469 [==============================] - 50s 107ms/step - loss: 0.0057 - accuracy: 0.9983 - val_loss: 0.0432 - val_accuracy: 0.9910\n",
      "Epoch 24/50\n",
      "469/469 [==============================] - 50s 107ms/step - loss: 0.0063 - accuracy: 0.9980 - val_loss: 0.0715 - val_accuracy: 0.9865\n",
      "Epoch 25/50\n",
      "469/469 [==============================] - 52s 110ms/step - loss: 0.0077 - accuracy: 0.9979 - val_loss: 0.0399 - val_accuracy: 0.9913\n",
      "Epoch 26/50\n",
      "469/469 [==============================] - 50s 106ms/step - loss: 0.0056 - accuracy: 0.9983 - val_loss: 0.0550 - val_accuracy: 0.9886\n",
      "Epoch 27/50\n",
      "469/469 [==============================] - 52s 111ms/step - loss: 0.0075 - accuracy: 0.9977 - val_loss: 0.0449 - val_accuracy: 0.9908\n",
      "Epoch 28/50\n",
      "469/469 [==============================] - 51s 110ms/step - loss: 0.0056 - accuracy: 0.9983 - val_loss: 0.0435 - val_accuracy: 0.9916\n",
      "Epoch 29/50\n",
      "469/469 [==============================] - 51s 109ms/step - loss: 0.0035 - accuracy: 0.9990 - val_loss: 0.0542 - val_accuracy: 0.9908\n",
      "Epoch 30/50\n",
      "469/469 [==============================] - 50s 108ms/step - loss: 0.0041 - accuracy: 0.9989 - val_loss: 0.0466 - val_accuracy: 0.9924\n",
      "Epoch 31/50\n",
      "469/469 [==============================] - 51s 110ms/step - loss: 0.0046 - accuracy: 0.9987 - val_loss: 0.0552 - val_accuracy: 0.9913\n",
      "Epoch 32/50\n",
      "469/469 [==============================] - 51s 109ms/step - loss: 0.0074 - accuracy: 0.9978 - val_loss: 0.0465 - val_accuracy: 0.9915\n",
      "Epoch 33/50\n",
      "469/469 [==============================] - 52s 111ms/step - loss: 0.0059 - accuracy: 0.9982 - val_loss: 0.0362 - val_accuracy: 0.9929\n",
      "Epoch 34/50\n",
      "469/469 [==============================] - 53s 112ms/step - loss: 0.0037 - accuracy: 0.9988 - val_loss: 0.0536 - val_accuracy: 0.9914\n",
      "Epoch 35/50\n",
      "469/469 [==============================] - 51s 108ms/step - loss: 0.0030 - accuracy: 0.9989 - val_loss: 0.0539 - val_accuracy: 0.9911\n",
      "Epoch 36/50\n",
      "469/469 [==============================] - 51s 109ms/step - loss: 0.0058 - accuracy: 0.9985 - val_loss: 0.0637 - val_accuracy: 0.9883\n",
      "Epoch 37/50\n",
      "469/469 [==============================] - 52s 111ms/step - loss: 0.0035 - accuracy: 0.9989 - val_loss: 0.0578 - val_accuracy: 0.9913\n",
      "Epoch 38/50\n",
      "469/469 [==============================] - 52s 111ms/step - loss: 0.0045 - accuracy: 0.9988 - val_loss: 0.0469 - val_accuracy: 0.9915\n",
      "Epoch 39/50\n",
      "469/469 [==============================] - 51s 109ms/step - loss: 0.0043 - accuracy: 0.9989 - val_loss: 0.0607 - val_accuracy: 0.9889\n",
      "Epoch 40/50\n",
      "469/469 [==============================] - 55s 118ms/step - loss: 0.0044 - accuracy: 0.9988 - val_loss: 0.0518 - val_accuracy: 0.9911\n",
      "Epoch 41/50\n",
      "469/469 [==============================] - 53s 113ms/step - loss: 0.0046 - accuracy: 0.9987 - val_loss: 0.0472 - val_accuracy: 0.9921\n",
      "Epoch 42/50\n",
      "469/469 [==============================] - 53s 112ms/step - loss: 0.0020 - accuracy: 0.9993 - val_loss: 0.0576 - val_accuracy: 0.9927\n",
      "Epoch 43/50\n",
      "469/469 [==============================] - 52s 111ms/step - loss: 0.0061 - accuracy: 0.9982 - val_loss: 0.0465 - val_accuracy: 0.9923\n",
      "Epoch 44/50\n",
      "469/469 [==============================] - 53s 114ms/step - loss: 0.0053 - accuracy: 0.9987 - val_loss: 0.0506 - val_accuracy: 0.9914\n",
      "Epoch 45/50\n",
      "469/469 [==============================] - 52s 112ms/step - loss: 0.0025 - accuracy: 0.9994 - val_loss: 0.0562 - val_accuracy: 0.9912\n",
      "Epoch 46/50\n",
      "469/469 [==============================] - 53s 113ms/step - loss: 0.0033 - accuracy: 0.9990 - val_loss: 0.0572 - val_accuracy: 0.9911\n",
      "Epoch 47/50\n",
      "469/469 [==============================] - 53s 113ms/step - loss: 0.0047 - accuracy: 0.9988 - val_loss: 0.0694 - val_accuracy: 0.9883\n",
      "Epoch 48/50\n",
      "469/469 [==============================] - 53s 112ms/step - loss: 0.0045 - accuracy: 0.9987 - val_loss: 0.0494 - val_accuracy: 0.9923\n",
      "Epoch 49/50\n",
      "469/469 [==============================] - 53s 113ms/step - loss: 0.0039 - accuracy: 0.9991 - val_loss: 0.0521 - val_accuracy: 0.9905\n",
      "Epoch 50/50\n",
      "469/469 [==============================] - 53s 114ms/step - loss: 0.0037 - accuracy: 0.9990 - val_loss: 0.0688 - val_accuracy: 0.9926\n"
     ]
    },
    {
     "data": {
      "text/plain": [
       "<tensorflow.python.keras.callbacks.History at 0x17e26307880>"
      ]
     },
     "execution_count": 7,
     "metadata": {},
     "output_type": "execute_result"
    }
   ],
   "source": [
    "model.fit(trainX,trainY,epochs=50,batch_size=128, validation_data=(testX, testY))"
   ]
  },
  {
   "cell_type": "code",
   "execution_count": 8,
   "metadata": {
    "colab": {
     "base_uri": "https://localhost:8080/"
    },
    "id": "98ve08WRGU4b",
    "outputId": "e1a08b37-561c-4947-880c-11cff4d400ba"
   },
   "outputs": [
    {
     "name": "stdout",
     "output_type": "stream",
     "text": [
      "313/313 [==============================] - 2s 7ms/step - loss: 0.0688 - accuracy: 0.9926\n"
     ]
    },
    {
     "data": {
      "text/plain": [
       "[0.06875557452440262, 0.9926000237464905]"
      ]
     },
     "execution_count": 8,
     "metadata": {},
     "output_type": "execute_result"
    }
   ],
   "source": [
    "model.evaluate(testX,testY)"
   ]
  },
  {
   "cell_type": "code",
   "execution_count": 9,
   "metadata": {
    "id": "SmBGF0HxfiMM"
   },
   "outputs": [
    {
     "name": "stdout",
     "output_type": "stream",
     "text": [
      "WARNING:tensorflow:From C:\\Users\\acer\\anaconda3\\lib\\site-packages\\tensorflow\\python\\training\\tracking\\tracking.py:111: Model.state_updates (from tensorflow.python.keras.engine.training) is deprecated and will be removed in a future version.\n",
      "Instructions for updating:\n",
      "This property should not be used in TensorFlow 2.0, as updates are applied automatically.\n",
      "WARNING:tensorflow:From C:\\Users\\acer\\anaconda3\\lib\\site-packages\\tensorflow\\python\\training\\tracking\\tracking.py:111: Layer.updates (from tensorflow.python.keras.engine.base_layer) is deprecated and will be removed in a future version.\n",
      "Instructions for updating:\n",
      "This property should not be used in TensorFlow 2.0, as updates are applied automatically.\n",
      "INFO:tensorflow:Assets written to: model\\assets\n"
     ]
    }
   ],
   "source": [
    "model.save(\"model\")"
   ]
  },
  {
   "cell_type": "code",
   "execution_count": null,
   "metadata": {},
   "outputs": [],
   "source": []
  }
 ],
 "metadata": {
  "accelerator": "GPU",
  "colab": {
   "name": "Digit_Classifier.ipynb",
   "provenance": []
  },
  "kernelspec": {
   "display_name": "Python 3",
   "language": "python",
   "name": "python3"
  },
  "language_info": {
   "codemirror_mode": {
    "name": "ipython",
    "version": 3
   },
   "file_extension": ".py",
   "mimetype": "text/x-python",
   "name": "python",
   "nbconvert_exporter": "python",
   "pygments_lexer": "ipython3",
   "version": "3.8.3"
  }
 },
 "nbformat": 4,
 "nbformat_minor": 1
}
